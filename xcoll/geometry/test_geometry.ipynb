{
 "cells": [
  {
   "cell_type": "code",
   "execution_count": null,
   "metadata": {},
   "outputs": [],
   "source": [
    "import numpy as np\n",
    "import matplotlib.pyplot as plt\n",
    "\n",
    "from matplotlib.widgets import Slider\n",
    "import xcoll.geometry.trajectories as tr\n",
    "import xcoll.geometry.segments as seg\n",
    "import xcoll.geometry.c_init as box\n",
    "\n",
    "import xcoll.geometry.c_init.bounding_box as bb\n",
    "\n",
    "# %matplotlib ipympl\n",
    "%matplotlib tk\n"
   ]
  },
  {
   "cell_type": "markdown",
   "metadata": {},
   "source": [
    "# Frederik, you can go down to \"Root tests\"."
   ]
  },
  {
   "cell_type": "markdown",
   "metadata": {},
   "source": [
    "# Bounding Box Tests"
   ]
  },
  {
   "cell_type": "code",
   "execution_count": null,
   "metadata": {},
   "outputs": [],
   "source": [
    "sintC = np.sin(np.deg2rad(45))\n",
    "cosTC = np.cos(np.deg2rad(45))\n",
    "rC = 2\n",
    "sin_tb = np.sin(0.)\n",
    "cos_tb = np.cos(0)\n",
    "projL = rC*(cos_tb*cosTC + sin_tb*sintC)\n",
    "projW = rC*(cos_tb*sintC - sin_tb*cosTC) \n",
    "b1 = box.BoundingBox(rC=rC, sin_tC=sintC, cos_tC=cosTC, sin_tb=sin_tb, cos_tb=cos_tb, l=2,w=2, proj_l=projL, proj_w=projW)\n",
    "#b1 = box.BoundingBox()\n",
    "sintC = np.sin(np.deg2rad(11.309932))\n",
    "cosTC = np.cos(np.deg2rad(11.309932))\n",
    "rC = 5.099\n",
    "sin_b = np.sin(np.deg2rad(45))\n",
    "cos_b = np.cos(np.deg2rad(45))\n",
    "projL = rC*(cos_b*cosTC + sin_b*sintC)\n",
    "projW = rC*(cos_b*sintC - sin_b*cosTC) \n",
    "b2 = box.BoundingBox(rC=rC, sin_tC=sintC, cos_tC=cosTC, sin_tb=sin_b, cos_tb=cos_b, l=2.8284271247462,w=2.8284271247462, proj_l=projL, proj_w=projW)\n",
    "\n",
    "sintC = np.sin(np.deg2rad(0.))\n",
    "cosTC = np.cos(np.deg2rad(0.))\n",
    "rC = 5.\n",
    "sin_b = np.sin(np.deg2rad(45.))\n",
    "cos_b = np.cos(np.deg2rad(45.))\n",
    "projL = rC*(cos_b*cosTC + sin_b*sintC)\n",
    "projW = rC*(cos_b*sintC - sin_b*cosTC) \n",
    "b3 = box.BoundingBox(rC=rC, sin_tC=sintC, cos_tC=cosTC, sin_tb=sin_b, cos_tb=cos_b, l=2.8284271247462,w=1.4142135623731, proj_l=projL, proj_w=projW)\n",
    "#\n",
    "#b1.set_params(box=b1, rC=rC, sin_tC=sintC, cos_tC=cosTC,l=2,w=2, sin_tb=sin_tb, cos_tb=cos_tb)\n",
    "#b2.set_params(box=b2, rC=rC, sin_tC=sintC, cos_tC=cosTC,l=2.828427124746,w=2.8284271247462, sin_tb=sin_b, cos_tb=cos_b)\n",
    "#b3.set_params(box=b3, rC=rC, sin_tC=sintC, cos_tC=cosTC,l=2.828427124746,w=1.4142135623731, sin_tb=sin_b, cos_tb=cos_b)"
   ]
  },
  {
   "cell_type": "code",
   "execution_count": null,
   "metadata": {},
   "outputs": [],
   "source": [
    "sintC = np.sin(np.deg2rad(11.309932))\n",
    "cosTC = np.cos(np.deg2rad(11.309932))\n",
    "rC = 5.099\n",
    "sin_b = np.sin(np.deg2rad(45))\n",
    "cos_b = np.cos(np.deg2rad(45))\n",
    "projL = rC*(cos_b*cosTC + sin_b*sintC)\n",
    "projW = rC*(cos_b*sintC - sin_b*cosTC) \n",
    "b2 = box.BoundingBox(rC=rC, sin_tC=sintC, cos_tC=cosTC, sin_tb=sin_b, cos_tb=cos_b, l=2.8284271247462,w=2.8284271247462, proj_l=projL, proj_w=projW)"
   ]
  },
  {
   "cell_type": "code",
   "execution_count": null,
   "metadata": {},
   "outputs": [],
   "source": [
    "sintC = np.sin(np.deg2rad(0.))\n",
    "cosTC = np.cos(np.deg2rad(0.))\n",
    "rC = 5.\n",
    "sin_b = np.sin(np.deg2rad(45.))\n",
    "cos_b = np.cos(np.deg2rad(45.))\n",
    "projL = rC*(cos_b*cosTC + sin_b*sintC)\n",
    "projW = rC*(cos_b*sintC - sin_b*cosTC) \n",
    "b3 = box.BoundingBox(rC=rC, sin_tC=sintC, cos_tC=cosTC, sin_tb=sin_b, cos_tb=cos_b, l=2.8284271247462,w=1.4142135623731, proj_l=projL, proj_w=projW)\n"
   ]
  },
  {
   "cell_type": "code",
   "execution_count": null,
   "metadata": {},
   "outputs": [],
   "source": [
    "overlap1 = b1.overlaps(b2=b2)  # this should overlap\n",
    "overlap2 = b1.overlaps(b2=b3)  # this should not overlap\n",
    "overlap3 = b2.overlaps(b2=b3)  # this should overlap\n",
    "\n",
    "print(f\"Overlap1: {overlap1}\")\n",
    "print(f\"Overlap2: {overlap2}\")\n",
    "print(f\"Overlap3: {overlap3}\")"
   ]
  },
  {
   "cell_type": "code",
   "execution_count": null,
   "metadata": {},
   "outputs": [],
   "source": [
    "test = np.array([[13, 1], [11, 10], [4, 5], [6, 7], [8, 9]])\n",
    "\n",
    "print(test[1,0])\n",
    "print(test[0,0])\n",
    "max_x_part = test[np.argmax(test[:, 0])]\n",
    "max_y_part = test[np.argmax(test[:, 1])]\n",
    "\n",
    "print(\"Part with biggest x value:\", max_x_part)\n",
    "print(\"Part with biggest y value:\", max_y_part)"
   ]
  },
  {
   "cell_type": "code",
   "execution_count": null,
   "metadata": {},
   "outputs": [],
   "source": [
    "def boundingBoxOverlap_test(b1,b2):\n",
    "    \"\"\"\n",
    "    b1 is an array with coordinates of all vertices of the bounding box\n",
    "    b2 is an array with coordinates of all vertices of the bounding box\n",
    "    [[x1,y1],\n",
    "     [x2,y2],\n",
    "     [x3,y3],\n",
    "     [x4,y4]]\n",
    "    \"\"\"\n",
    "    b1_max_s = b1[np.argmax(b1[:, 0])]\n",
    "    b1_max_x = b1[np.argmax(b1[:, 1])]\n",
    "    b1_min_s = b1[np.argmin(b1[:, 0])]\n",
    "    b1_min_x = b1[np.argmin(b1[:, 1])]\n",
    "\n",
    "    b2_min_s = b2[np.argmin(b2[:, 0])]\n",
    "    b2_min_x = b2[np.argmin(b2[:, 1])]\n",
    "    b2_max_s = b2[np.argmax(b2[:, 0])]\n",
    "    b2_max_x = b2[np.argmax(b2[:, 1])]\n",
    "    if b2_min_s[0] <= b1_max_s[0] <= b2_max_s[0] or b2_min_s[0] <= b1_min_s[0] <= b2_max_s[0]:\n",
    "        if b1_\n",
    "    else:\n",
    "        print(\"b1_max_s and b1_min_s are outside b2_max_s and b2_min_s\")\n",
    "    "
   ]
  },
  {
   "cell_type": "code",
   "execution_count": null,
   "metadata": {},
   "outputs": [],
   "source": [
    "import numpy as np\n",
    "import matplotlib.pyplot as plt\n",
    "from matplotlib.widgets import Slider\n",
    "import xcoll.geometry.trajectories as tr\n",
    "\n",
    "import xcoll.geometry.segments as seg\n",
    "\n",
    "import xcoll.geometry.c_init as box\n",
    "# %matplotlib ipympl\n",
    "#%matplotlib tk"
   ]
  },
  {
   "cell_type": "code",
   "execution_count": null,
   "metadata": {},
   "outputs": [],
   "source": [
    "#L = seg.HalfOpenLineSegment(s1=1,x1=0,cos_t1=np.sqrt(2)/2)\n",
    "#L.box.l\n",
    "\n",
    "#L1 = seg.LineSegment(s1=0,x1=0,s2=1,x2=1)\n",
    "#L1.box.l\n",
    "\n",
    "#L3 = seg.CircularSegment(R=1,sR=0,xR=0,theta1=np.pi/6,theta2=np.pi/4)\n",
    "\n",
    "L4 = seg.BezierSegment(s1=0,x1=0,cs1=0.5,cx1=0.5,cs2=0.5,cx2=0.5,s2=1,x2=1) "
   ]
  },
  {
   "cell_type": "code",
   "execution_count": null,
   "metadata": {},
   "outputs": [],
   "source": [
    "theta_ch = np.arctan2( 0.837257, -0.546810)\n",
    "theta_b = np.arctan2( 0.546810, 0.837257)\n",
    "print(np.rad2deg(theta_ch))\n",
    "print(np.rad2deg(theta_b))"
   ]
  },
  {
   "cell_type": "code",
   "execution_count": null,
   "metadata": {},
   "outputs": [],
   "source": [
    "#L = tr.DriftTrajectory(s0=3, x0=3, xp=np.deg2rad(35))\n",
    "L_circ = tr.CircularTrajectory(R=1, sR=0, xR=0, s0=0, x0=1, l1=0,l2=np.pi)\n",
    "\n",
    "\n",
    "L_circ.plot(l1=0, l2=np.pi)\n",
    "\n"
   ]
  },
  {
   "cell_type": "code",
   "execution_count": null,
   "metadata": {},
   "outputs": [],
   "source": [
    "ran_1 = np.random.normal()\n",
    "ran_2 = np.random.normal()\n",
    "\n",
    "L_mcs = tr.MultipleCoulombTrajectory(s0=0.1, x0=1, xp=np.tan(np.deg2rad(30.)), pc=1e9, beta=1.e9/np.sqrt(0.938e9**2 + 1.e9**2),\n",
    "                                     q=1, X0=0.0001, ran_1=ran_1, ran_2=ran_2, l1=0,l2=1)\n",
    "\n",
    "\n",
    "L_mcs.plot()\n"
   ]
  },
  {
   "cell_type": "code",
   "execution_count": null,
   "metadata": {},
   "outputs": [],
   "source": [
    "S_circ = seg.CircularSegment(R=1,sR=0.4,xR=1.4,theta1=np.pi/6,theta2=3*np.pi/2, t1=0.,t2=1)\n",
    "S_circ.plot(t1=0, t2=1)"
   ]
  },
  {
   "cell_type": "code",
   "execution_count": null,
   "metadata": {},
   "outputs": [],
   "source": [
    "overlap = L_mcs.box.overlaps(b2=S_circ.box)\n",
    "print(f\"Overlap: {overlap}\")\n"
   ]
  },
  {
   "cell_type": "markdown",
   "metadata": {},
   "source": [
    "### Root tests"
   ]
  },
  {
   "cell_type": "code",
   "execution_count": 17,
   "metadata": {},
   "outputs": [],
   "source": [
    "import numpy as np\n",
    "import matplotlib.pyplot as plt\n",
    "from matplotlib.widgets import Slider\n",
    "import xcoll.geometry.trajectories as tr\n",
    "import xcoll.geometry.segments as seg\n",
    "from xcoll.geometry.crossings.find_root import find_root\n",
    "#%matplotlib ipympl\n",
    "\n",
    "%matplotlib tk"
   ]
  },
  {
   "cell_type": "code",
   "execution_count": 18,
   "metadata": {},
   "outputs": [],
   "source": [
    "line = seg.LineSegment(s1=11, x1=13, s2=13, x2=12)\n",
    "halfopen = seg.HalfOpenLineSegment(s1=10, x1=11, cos_t1=np.tan(np.deg2rad(30.)))\n",
    "drift = tr.DriftTrajectory(s0=10., x0=11, xp=np.deg2rad(60.0))\n",
    "mcs = tr.MultipleCoulombTrajectory(s0=11, x0=13, xp=np.tan(np.deg2rad(180.)), pc=1e9, beta=1.e9/np.sqrt(0.938e9**2 + 1.e9**2),\n",
    "                                     q=1, X0=0.0001, ran_1=np.random.normal(), ran_2=np.random.normal(), l1=0,l2=1)\n",
    "\n",
    "locseg = seg.segment.LocalSegment(line)\n",
    "loctraj = tr.trajectory.LocalTrajectory(mcs)\n",
    "\n",
    "#traj = tr.trajectory.LocalTrajectory.from_dict(drift.to_dict())"
   ]
  },
  {
   "cell_type": "code",
   "execution_count": null,
   "metadata": {},
   "outputs": [],
   "source": [
    "# This is failing due to the init of half open. idk why. \n",
    "locseg = seg.segment.LocalSegment(halfopen)"
   ]
  },
  {
   "cell_type": "code",
   "execution_count": null,
   "metadata": {},
   "outputs": [],
   "source": [
    "# just for plotting\n",
    "plt.plot([line.box.s1, line.box.s2, line.box.s3, line.box.s4, line.box.s1],\n",
    "         [line.box.x1, line.box.x2, line.box.x3, line.box.x4, line.box.x1], 'b-' )\n",
    "plt.plot([drift.box.s1, drift.box.s2, drift.box.s3, drift.box.s4, drift.box.s1],\n",
    "         [drift.box.x1, drift.box.x2, drift.box.x3, drift.box.x4, drift.box.x1], 'r-' )\n",
    "plt.plot([mcs.box.s1, mcs.box.s2, mcs.box.s3, mcs.box.s4, mcs.box.s1],\n",
    "         [mcs.box.x1, mcs.box.x2, mcs.box.x3, mcs.box.x4, mcs.box.x1], 'g-' )\n",
    "plt.plot([halfopen.box.s1, halfopen.box.s2, halfopen.box.s3, halfopen.box.s4, halfopen.box.s1],\n",
    "         [halfopen.box.x1, halfopen.box.x2, halfopen.box.x3, halfopen.box.x4, halfopen.box.x1], 'm-' )\n",
    "plt.axis('equal')\n",
    "plt.grid()\n",
    "plt.show()"
   ]
  },
  {
   "cell_type": "code",
   "execution_count": null,
   "metadata": {},
   "outputs": [],
   "source": [
    "# This calls the exposed find_crossing method in find_root.h \n",
    "# I have commented out all the analytical stuff, so it will go straight to the numerical thing. \n",
    "# In C, in the final version, I want to remove the dependency of the python class\n",
    "# for finding the l and t of the root, and use pointers or an array or something to store/return them\n",
    "# to the \"main\" function where the scattering is actually taking place.\n",
    "check = find_root()\n",
    "check.find_crossing(seg=locseg, traj=loctraj)"
   ]
  },
  {
   "cell_type": "code",
   "execution_count": null,
   "metadata": {},
   "outputs": [],
   "source": [
    "# This is just prev. testing for checking that Newton works.\n",
    "import xobjects as xo\n",
    "guess_l = xo.Float64(0.01)\n",
    "guess_t = xo.Float64(0.3)\n",
    "check = find_root()\n",
    "\n",
    "#guess_t, guess_l = check.find_guess_l_and_t(traj=drift, seg=line)\n",
    "check.newton(seg=locseg, traj=loctraj, guess_l=guess_l, guess_t=guess_t)"
   ]
  },
  {
   "cell_type": "code",
   "execution_count": null,
   "metadata": {},
   "outputs": [],
   "source": [
    "# The solutions are saved in the python class atm for testing. \n",
    "print(check.solution_l, check.solution_t)"
   ]
  },
  {
   "cell_type": "markdown",
   "metadata": {},
   "source": [
    "# Trajectory Tests"
   ]
  },
  {
   "cell_type": "code",
   "execution_count": null,
   "metadata": {},
   "outputs": [],
   "source": [
    "import numpy as np\n",
    "import matplotlib.pyplot as plt\n",
    "\n",
    "from matplotlib.widgets import Slider\n",
    "import xcoll.geometry.trajectories as tr\n",
    "import xcoll.geometry.segments as seg\n",
    "#import xcoll.geometry.c_init as box\n",
    "#%matplotlib ipympl\n",
    "\n",
    "%matplotlib tk"
   ]
  },
  {
   "cell_type": "code",
   "execution_count": null,
   "metadata": {},
   "outputs": [],
   "source": []
  },
  {
   "cell_type": "code",
   "execution_count": null,
   "metadata": {},
   "outputs": [],
   "source": [
    "\n",
    "kwargs = {'s0': [-3, 3, 0.1], 'x0': [-3, 3, 0.1], 'theta0': [np.deg2rad(-89), np.deg2rad(89), np.deg2rad(10)]}\n",
    "\n",
    "tr.DriftTrajectory._inspect(**kwargs)"
   ]
  },
  {
   "cell_type": "code",
   "execution_count": null,
   "metadata": {},
   "outputs": [],
   "source": [
    "kwargs = {'sR': [-3, 3, 0.]\n",
    "          , 'xR': [-3, 3, 0.], 's0': [-2, 2, 1.5], 'x0': [-2, 2, -1.5]}\n",
    "tr.CircularTrajectory._inspect(**kwargs)"
   ]
  },
  {
   "cell_type": "code",
   "execution_count": null,
   "metadata": {},
   "outputs": [],
   "source": [
    "ran_1 = np.random.normal()\n",
    "ran_2 = np.random.normal()\n",
    "\n",
    "#fig, _ = tr.MultipleCoulombTrajectory(s0=0.1, x0=1, xp=np.tan(np.deg2rad(30.)), pc=1e9, beta=1.e9/np.sqrt(0.938e9**2 + 1.e9**2),\n",
    "#                                      q=1, X0=0.0001, ran_1=ran_1, ran_2=ran_2).plot()\n",
    "\n",
    "\n",
    "kwargs = {'s0': [-3, 3, 0.1], 'x0': [-3, 3, 0.1], 'xp': [np.deg2rad(-180), np.deg2rad(180), np.deg2rad(10)], 'pc':[1e9, 1e9, 1e9],\n",
    "          'beta': [1.e9/np.sqrt(0.938e9**2 + 1.e9**2), 1.e9/np.sqrt(0.938e9**2 + 1.e9**2), 1.e9/np.sqrt(0.938e9**2 + 1.e9**2)],\n",
    "          'q': [1, 1, 1], 'X0': [0.0001, 0.001, 0.0001], 'ran_1': [ran_1, ran_1, ran_1], 'ran_2': [ran_2, ran_2, ran_2]}\n",
    "\n",
    "\n",
    "tr.MultipleCoulombTrajectory._inspect(**kwargs)"
   ]
  },
  {
   "cell_type": "markdown",
   "metadata": {},
   "source": []
  },
  {
   "cell_type": "code",
   "execution_count": null,
   "metadata": {},
   "outputs": [],
   "source": [
    "fig, _ =  tr.CircularTrajectory(s0=0, x0=-1, sR=0, xR=0).plot(l1=-0.5, l2=np.pi/2-0.01)\n"
   ]
  },
  {
   "cell_type": "code",
   "execution_count": null,
   "metadata": {},
   "outputs": [],
   "source": []
  },
  {
   "cell_type": "markdown",
   "metadata": {},
   "source": [
    "# Segment Tests"
   ]
  },
  {
   "cell_type": "code",
   "execution_count": null,
   "metadata": {},
   "outputs": [],
   "source": [
    "import numpy as np\n",
    "import matplotlib.pyplot as plt\n",
    "from matplotlib.widgets import Slider\n",
    "import xcoll.geometry.trajectories as tr\n",
    "import xcoll.geometry.segments as seg\n",
    "import xcoll.geometry.c_init as box\n",
    "# %matplotlib ipympl\n",
    "%matplotlib tk"
   ]
  },
  {
   "cell_type": "code",
   "execution_count": null,
   "metadata": {},
   "outputs": [],
   "source": [
    "kwargs = {'s1': [-3, 3, 1.968750e-01], 'x1': [-3, 3, 1.687500e-01], 's2': [-3, 3, -6.468750e-01], 'x2': [-3, 3, -6.468750e-01]}\n",
    "\n",
    "\n",
    "seg.LineSegment._inspect(**kwargs)\n",
    "\n"
   ]
  },
  {
   "cell_type": "code",
   "execution_count": null,
   "metadata": {},
   "outputs": [],
   "source": [
    "# make a line segment box to control the angle\n",
    "s1 =  1.968750e-01\n",
    "x1 = 1.687500e-01\n",
    "s2 = -6.468750e-01\n",
    "x2 = -6.468750e-01\n",
    "sin_b = (x2 - x1) / np.sqrt((x2 - x1)*(x2 - x1) + (s2 - s1)*(s2 - s1))\n",
    "cos_b = (s2 - s1) / np.sqrt((x2 - x1)*(x2 - x1) + (s2 - s1)*(s2 - s1))\n",
    "l = np.sqrt((s2 - s1)*(s2 - s1) + (x2 - x1)*(x2 - x1))   \n",
    "w = 0.                                             \n",
    "rC = np.sqrt(s1*s1 + x1*x1)\n",
    "sin_tC = x1 / rC                       \n",
    "cos_tC = s1 / rC\n",
    "projL = rC*(cos_b*cos_tC + sin_b*sin_tC)\n",
    "projW = rC*(cos_b*sin_tC - sin_b*cos_tC) \n",
    "b_line = box.BoundingBox(rC=rC, sin_tC=sin_tC, cos_tC=cos_tC, sin_tb=sin_b, cos_tb=cos_b, l=l,w=w, proj_l=projL, proj_w=projW)"
   ]
  },
  {
   "cell_type": "code",
   "execution_count": null,
   "metadata": {},
   "outputs": [],
   "source": [
    "print(f\"rC = {b_line.rC}, sin_tC = {b_line.sin_tC}, \\n cos_tC = {b_line.cos_tC}, l = {b_line.l}, w = {b_line.w}, \\nsin_tb = {b_line.sin_tb}, cos_tb = {b_line.cos_tb}\")\n",
    "print(f\"box s1: {b_line.s1}, box x1: {b_line.x1}, box s2: {b_line.s2}, box x2: {b_line.x2}\")\n",
    "print(f\"calc: { b_line.rC * b_line.cos_tC + b_line.l * (b_line.cos_tb)}\")"
   ]
  },
  {
   "cell_type": "code",
   "execution_count": null,
   "metadata": {},
   "outputs": [],
   "source": []
  },
  {
   "cell_type": "code",
   "execution_count": null,
   "metadata": {},
   "outputs": [],
   "source": [
    "# line unit vector\n",
    "dx = sin_tC\n",
    "dy = cos_tC\n",
    "\n",
    "# half-length vector\n",
    "hx = dx * (l / 2)\n",
    "hy = dy * (l / 2)\n",
    "\n",
    "# center coordinates\n",
    "cx = rC  # or s-axis? depends on your frame\n",
    "cy = 0   # adjust if your center is not on x=0\n",
    "\n",
    "# endpoints along the line\n",
    "x1_line = cx - hx\n",
    "y1_line = cy - hy\n",
    "x2_line = cx + hx\n",
    "y2_line = cy + hy\n",
    "\n",
    "# perpendicular vector\n",
    "px = sin_b\n",
    "py = cos_b\n",
    "w2 = w / 2\n",
    "\n",
    "# compute four corners\n",
    "corners = [\n",
    "    (x1_line - w2*px, y1_line - w2*py),\n",
    "    (x2_line - w2*px, y2_line - w2*py),\n",
    "    (x2_line + w2*px, y2_line + w2*py),\n",
    "    (x1_line + w2*px, y1_line + w2*py),\n",
    "]\n",
    "\n",
    "# plot\n",
    "import matplotlib.pyplot as plt\n",
    "xs, ys = zip(*corners, corners[0])  # close box\n",
    "plt.plot(xs, ys, 'b-')\n",
    "plt.plot([x1_line, x2_line], [y1_line, y2_line], 'r-', lw=2)  # segment line\n",
    "plt.plot([s2, s1], [x2, x1], 'r-')\n",
    "plt.axis('equal')\n",
    "plt.show()\n"
   ]
  },
  {
   "cell_type": "code",
   "execution_count": null,
   "metadata": {},
   "outputs": [],
   "source": [
    "kwargs = {'s1': [-3, 3, 0], 'x1': [-3, 3, 0], 'theta1': [-2*np.pi, 2*np.pi, np.pi/3]}\n",
    "seg.HalfOpenLineSegment._inspect(**kwargs)"
   ]
  },
  {
   "cell_type": "code",
   "execution_count": null,
   "metadata": {},
   "outputs": [],
   "source": [
    "kwargs = {'R': [0.1, 3, 1.2], 'sR': [-3, 3, 0.2], 'xR': [-3, 3, -0.3],\n",
    "          'theta1': [-2*np.pi, 3*np.pi, -np.pi], 'theta2': [-2*np.pi, 3*np.pi, 0.],}\n",
    "seg.CircularSegment._inspect(**kwargs)\n",
    "\n",
    "# 1. Providing the centre, radius, and angles: CircularSegment(R=..., sR=..., xR=..., theta1=..., theta2=...)\n",
    "# 2. Providing the start point, radius, and angles: CircularSegment(R=..., s1=..., x1=..., theta1=..., theta2=...)\n",
    "# 3. Providing the end point, radius, and angles: CircularSegment(R=..., s2=..., x2=..., theta1=..., theta2=...)\n",
    "# 4. Providing the start and end point, and the (possibly negative) curvature: CircularSegment(k=..., s1=..., x1=..., s2=..., x2=...)\n",
    "# 5. Providing the centre, start point, and an angular shift: CircularSegment(sR=..., xR=..., s1=..., x1=..., delta_theta=...)\n",
    "# 6. Providing the centre, end point, and an angular shift: CircularSegment(sR=..., xR=..., s2=..., x2=..., delta_theta=...)"
   ]
  },
  {
   "cell_type": "code",
   "execution_count": null,
   "metadata": {},
   "outputs": [],
   "source": [
    "ci_negpi_0 = seg.CircularSegment(R=1.2, s1=0.2, x1 = -0.3, theta1=-np.pi, theta2=0., t1=0, t2=1)\n",
    "ci_negpi_0.plot()\n",
    "\n",
    "#box is  wrong"
   ]
  },
  {
   "cell_type": "code",
   "execution_count": null,
   "metadata": {},
   "outputs": [],
   "source": [
    "ci_negpi_pi = seg.CircularSegment(R=1.2, s1=0.2, x1 = -0.3, theta1=-np.pi, theta2=np.pi, t1=0, t2=1)\n",
    "ci_negpi_pi.plot()\n",
    "\n",
    "#box is wrong"
   ]
  },
  {
   "cell_type": "code",
   "execution_count": null,
   "metadata": {},
   "outputs": [],
   "source": [
    "ci_negpi_30 = seg.CircularSegment(R=1.2, s1=0.2, x1 = -0.3, theta1=-np.pi, theta2=np.pi/6, t1=0, t2=1)\n",
    "ci_negpi_30.plot()\n",
    "\n"
   ]
  },
  {
   "cell_type": "code",
   "execution_count": null,
   "metadata": {},
   "outputs": [],
   "source": [
    "ci_0_pi = seg.CircularSegment(R=1.2, s1=0.2, x1 = -0.3, theta1=0., theta2=np.pi, t1=0, t2=1)\n",
    "ci_0_pi.plot()\n",
    "\n",
    "# box is very wrong"
   ]
  },
  {
   "cell_type": "code",
   "execution_count": null,
   "metadata": {},
   "outputs": [],
   "source": [
    "ci_0_30 = seg.CircularSegment(R=1.2, s1=0.2, x1 = -0.3, theta1=0., theta2=np.pi/6, t1=0, t2=1)\n",
    "ci_0_30.plot()\n"
   ]
  },
  {
   "cell_type": "code",
   "execution_count": null,
   "metadata": {},
   "outputs": [],
   "source": [
    "\n",
    "ci_120_pi = seg.CircularSegment(R=1.2, s1=0.2, x1 = -0.3, theta1=2.0, theta2=np.pi, t1=0, t2=1)\n",
    "ci_120_pi.plot()"
   ]
  },
  {
   "cell_type": "code",
   "execution_count": null,
   "metadata": {},
   "outputs": [],
   "source": [
    "kwargs = {'R': [0.1, 3, 1.2], 's1': [-3, 3, 0.2], 'x1': [-3, 3, -0.3],\n",
    "          'theta1': [-np.pi, np.pi, -np.pi/3], 'theta2': [-np.pi, np.pi, np.pi/3]}\n",
    "\n",
    "\n",
    "seg.CircularSegment._inspect(**kwargs)"
   ]
  },
  {
   "cell_type": "code",
   "execution_count": null,
   "metadata": {},
   "outputs": [],
   "source": [
    "kwargs = {'R': [0.1, 3, 1.2], 's2': [-3, 3, 0.2], 'x2': [-3, 3, -0.3],\n",
    "          'theta1': [-np.pi, np.pi, -np.pi/3], 'theta2': [-np.pi, 2*np.pi, np.pi/3],}\n",
    "\n",
    "seg.CircularSegment._inspect(**kwargs)"
   ]
  },
  {
   "cell_type": "code",
   "execution_count": null,
   "metadata": {},
   "outputs": [],
   "source": [
    "kwargs = {'k': [-1, 1, 0.1], 's1': [-3, 3, 0.2], 'x1': [-3, 3, -0.3], 's2': [-3, 3, 0.7], 'x2': [-3, 3, 0.5]}\n",
    "\n",
    "# seg.CircularSegment._inspect(**kwargs)\n",
    "seg.CircularSegment._inspect(plot_bounding_box=False, plot_control_points=False, **kwargs)"
   ]
  },
  {
   "cell_type": "code",
   "execution_count": null,
   "metadata": {},
   "outputs": [],
   "source": [
    "kwargs = {'sR': [-3, 3, 0.2], 'xR': [-3, 3, -0.3], 's1': [-3, 3, 0.7], 'x1': [-3, 3, 0.5],\n",
    "          'delta_theta': [-2*np.pi, 2*np.pi, np.pi/3]}\n",
    "\n",
    "seg.CircularSegment._inspect(**kwargs)"
   ]
  },
  {
   "cell_type": "code",
   "execution_count": null,
   "metadata": {},
   "outputs": [],
   "source": [
    "kwargs = {'sR': [-3, 3, 0.2], 'xR': [-3, 3, -0.3], 's1': [-3, 3, 0.7], 'x1': [-3, 3, 0.5],\n",
    "          'delta_theta': [-2*np.pi, 2*np.pi, -np.pi/3]}"
   ]
  },
  {
   "cell_type": "code",
   "execution_count": null,
   "metadata": {},
   "outputs": [],
   "source": [
    "kwargs = {\n",
    "    's1': [-3, 3, 0],\n",
    "    'x1': [-3, 3, 0],\n",
    "    'cs1': [-3, 3, 0],\n",
    "    'cx1': [-3, 3, 1],\n",
    "    'cs2': [-3, 3, 1],\n",
    "    'cx2': [-3, 3, 0],\n",
    "    's2': [-3, 3, 1],\n",
    "    'x2': [-3, 3, 1],\n",
    "}\n",
    "\n",
    "seg.BezierSegment._inspect(**kwargs)"
   ]
  },
  {
   "cell_type": "code",
   "execution_count": null,
   "metadata": {},
   "outputs": [],
   "source": []
  },
  {
   "cell_type": "markdown",
   "metadata": {},
   "source": [
    "# Shape"
   ]
  },
  {
   "cell_type": "code",
   "execution_count": null,
   "metadata": {},
   "outputs": [],
   "source": [
    "%load_ext autoreload\n",
    "%autoreload 2\n",
    "# %load_ext wurlitzer\n",
    "%matplotlib ipympl\n",
    "\n",
    "import numpy as np\n",
    "import xobjects as xo\n",
    "\n",
    "import xcoll as xc\n",
    "from xcoll.geometry.segments import get_max_crossings\n",
    "from xcoll.geometry.trajectories import DriftTrajectory\n",
    "\n",
    "import matplotlib.pyplot as plt\n",
    "from ipywidgets import interact, interactive, fixed, interact_manual\n",
    "import ipywidgets as widgets"
   ]
  },
  {
   "cell_type": "code",
   "execution_count": null,
   "metadata": {},
   "outputs": [],
   "source": [
    "def check_drift(shape, plot_object=False, xlim=(-0.5, 1.5), ylim=(-0.5, 1.5)):\n",
    "    to_remove = []\n",
    "    s_val = np.linspace(*xlim, 200)\n",
    "    fig, ax = plt.subplots(1, 1, figsize=(8,8))\n",
    "    if plot_object:\n",
    "        shape.plot(axes=ax)\n",
    "    ax.set_xlim(xlim)\n",
    "    ax.set_ylim(ylim)\n",
    "    ax.set_aspect('equal')\n",
    "\n",
    "    n_hit = np.zeros(1, dtype=np.int8)\n",
    "    s = np.zeros(get_max_crossings(shape, DriftTrajectory), dtype=np.float64)\n",
    "    # s = np.zeros(8, dtype=np.float64)\n",
    "\n",
    "    def update_plot(s0, x0, part_theta):\n",
    "        # Clean the previous trajectory and points\n",
    "        while to_remove:\n",
    "            last_point = to_remove.pop()  # Get the last added point\n",
    "            last_point.remove()\n",
    "        m = np.tan(np.radians(part_theta))\n",
    "        # Draw drift trajectory and point\n",
    "        spread = 10 # degrees\n",
    "        line, = ax.plot(s_val, m*(s_val - s0) + x0, c='k')\n",
    "        to_remove.append(line)\n",
    "        scatter = ax.scatter(s0, x0, c='r', s=20)\n",
    "        to_remove.append(scatter)\n",
    "        m1 = np.tan(np.radians(part_theta+spread))\n",
    "        m2 = np.tan(np.radians(part_theta-spread))\n",
    "        line = ax.fill_between(s_val, m1*(s_val - s0) + x0, m2*(s_val - s0) + x0, alpha=0.2)\n",
    "        to_remove.append(line)\n",
    "        # Create hits for different slopes (small cone around the trajectory)\n",
    "        hits_s = []\n",
    "        hits_x = []\n",
    "        for sp in np.linspace(-spread, spread, 100):\n",
    "            n_hit[0] = 0\n",
    "            m = np.tan(np.radians(part_theta + sp))\n",
    "            if isinstance(shape, xc.Shape2DV):\n",
    "                shape.crossing_drift(n_hit=n_hit, s=s, s0=s0, x0=x0, xm=m, y0=0, ym=0)\n",
    "            else:\n",
    "                shape.crossing_drift(n_hit=n_hit, s=s, s0=s0, x0=x0, xm=m)\n",
    "            hits_s += list(s[:n_hit[0]])\n",
    "            hits_x += list(x0 + m*(s[:n_hit[0]] - s0))\n",
    "        # for i in range(n_hit[0]):\n",
    "        scatter = ax.scatter(hits_s, hits_x, c='g', s=5)\n",
    "        # to_remove.append(scatter)\n",
    "        fig.canvas.draw()  # Redraw the canvas to show the new point\n",
    "\n",
    "\n",
    "    def onclick(event):\n",
    "        s0, x0 = event.xdata, event.ydata\n",
    "        if s0 is not None and x0 is not None:  # Ensure the click is inside the plot\n",
    "            update_plot(s0, x0, part_theta_slider.value)\n",
    "\n",
    "\n",
    "    fig.canvas.mpl_connect('button_press_event', onclick)\n",
    "    part_theta_slider = widgets.IntSlider(min=-89, max=89, step=1, value=0)\n",
    "\n",
    "    @interact(part_theta=part_theta_slider)\n",
    "    def check_linesegments(part_theta):\n",
    "        if to_remove:\n",
    "            scatter = to_remove[1]  # The second point is the clicked scatter point\n",
    "            s0, x0 = scatter.get_offsets()[0, 0], scatter.get_offsets()[0, 1]\n",
    "\n",
    "            # Update the plot with the new slope based on the slider\n",
    "            update_plot(s0, x0, part_theta)"
   ]
  },
  {
   "cell_type": "code",
   "execution_count": null,
   "metadata": {},
   "outputs": [],
   "source": [
    "shape1 = xc.Shape2D([xc.LineSegment(s1=0, x1=0, s2=0.2, x2=1), xc.LineSegment(s1=0.2, x1=1, s2=1, x2=1),\n",
    "                     xc.LineSegment(s1=1, x1=1, s2=0.8, x2=0), xc.LineSegment(s1=0.8, x1=0, s2=0, x2=0)])\n",
    "shape2 = xc.Shape2D([xc.LineSegment(s1=0, x1=0, s2=0.2, x2=1),\n",
    "                     xc.BezierSegment(s1=0.2, x1=1, s2=1+0.5*np.cos(3*np.pi/4), x2=0.5+0.5*np.sin(3*np.pi/4), cs1=0.5, cx1=2.5, cs2=1+0.5*np.cos(3*np.pi/4)-0.6, cx2=0.5+0.5*np.sin(3*np.pi/4)-0.6),\n",
    "                     xc.CircularSegment(R=0.5, s=1, x=0.5, t1=-np.pi/2, t2=3*np.pi/4),\n",
    "                     xc.LineSegment(s1=1, x1=0, s2=0, x2=0),\n",
    "                     xc.HalfOpenLineSegment(s=2, x=1, t=np.pi/4),\n",
    "                     xc.LineSegment(s1=2, x1=1, s2=3, x2=0),\n",
    "                     xc.HalfOpenLineSegment(s=3, x=0, t=np.pi/4)])\n",
    "shape3 = xc.Shape2DV([xc.LineSegment(s1=0, x1=0, s2=0.2, x2=1),\n",
    "                      xc.BezierSegment(s1=0.2, x1=1, s2=1+0.5*np.cos(3*np.pi/4), x2=0.5+0.5*np.sin(3*np.pi/4), cs1=0.5, cx1=2.5, cs2=1+0.5*np.cos(3*np.pi/4)-0.6, cx2=0.5+0.5*np.sin(3*np.pi/4)-0.6),\n",
    "                      xc.CircularSegment(R=0.5, s=1, x=0.5, t1=-np.pi/2, t2=3*np.pi/4),\n",
    "                      xc.LineSegment(s1=1, x1=0, s2=0, x2=0),\n",
    "                      xc.HalfOpenLineSegment(s=2, x=1, t=np.pi/4),\n",
    "                      xc.LineSegment(s1=2, x1=1, s2=3, x2=0),\n",
    "                      xc.HalfOpenLineSegment(s=3, x=0, t=np.pi/4),\n",
    "                      xc.HalfOpenLineSegment(s=1.8, x=-0.5, t=5*np.pi/8),\n",
    "                      xc.CircularSegment(R=0.3, s=1.8-0.3*np.cos(np.pi/8), x=-0.5-0.3*np.sin(np.pi/8), t1=-7*np.pi/8, t2=np.pi/8),\n",
    "                      xc.HalfOpenLineSegment(s=1.8-0.6*np.cos(np.pi/8), x=-0.5-0.6*np.sin(np.pi/8), t=5*np.pi/8)],\n",
    "                     vlimit=[-0.1, 0.1])\n",
    "shape4 = xc.Shape2DV([xc.CircularSegment(R=1, s=0, x=0, t1=0, t2=2*np.pi/3),\n",
    "                      xc.CircularSegment(R=1, s=0, x=0, t1=2*np.pi/3, t2=4*np.pi/3),\n",
    "                      xc.CircularSegment(R=1, s=0, x=0, t1=4*np.pi/3, t2=2*np.pi)],\n",
    "                     vlimit=[-0.1, 0.1])\n",
    "R1 = 0.5\n",
    "R2 = 2\n",
    "t = np.arcsin(R1/R2)\n",
    "shape5 = xc.Shape2D([xc.CircularSegment(R=R1, s=0, x=0, t1=np.pi/2, t2=-np.pi/2),\n",
    "                     xc.CircularSegment(R=R2, s=-R2*np.cos(t), x=0, t1=-t, t2=t)])\n",
    "shape6 = xc.Shape2D([xc.HalfOpenLineSegment(s=0, x=0, t=np.pi/4),\n",
    "                     xc.HalfOpenLineSegment(s=0, x=0, t=-np.pi/4)])"
   ]
  },
  {
   "cell_type": "code",
   "execution_count": null,
   "metadata": {},
   "outputs": [],
   "source": [
    "#This is meant to fail\n",
    "\n",
    "xc.Shape2D([xc.LineSegment(s1=0, x1=0, s2=0.2, x2=1), xc.LineSegment(s1=0.2, x1=1, s2=1, x2=1), xc.LineSegment(s1=0.2, x1=1, s2=1, x2=1),\n",
    "            xc.LineSegment(s1=1, x1=1, s2=0.8, x2=0), xc.LineSegment(s1=0.8, x1=0, s2=0, x2=0)]).get_vertices()"
   ]
  },
  {
   "cell_type": "code",
   "execution_count": null,
   "metadata": {},
   "outputs": [],
   "source": [
    "fig, _ = shape1.plot3d(); fig.show()\n",
    "fig, _ = shape2.plot3d(); fig.show()\n",
    "fig, _ = shape3.plot3d(); fig.show()\n",
    "fig, _ = shape4.plot3d(); fig.show()\n",
    "fig, _ = shape5.plot3d(); fig.show()\n",
    "fig, _ = shape6.plot3d(); fig.show()"
   ]
  },
  {
   "cell_type": "code",
   "execution_count": null,
   "metadata": {},
   "outputs": [],
   "source": [
    "shape_1 = xc.Shape2D([xc.LineSegment(s1=0, x1=0, s2=0.2, x2=1), xc.LineSegment(s1=0.2, x1=1, s2=1, x2=1),\n",
    "                     xc.LineSegment(s1=1, x1=1, s2=0.8, x2=0), xc.LineSegment(s1=0.8, x1=0, s2=0, x2=0)])\n",
    "\n",
    "check_drift(shape_1, plot_object=False)"
   ]
  },
  {
   "cell_type": "code",
   "execution_count": null,
   "metadata": {},
   "outputs": [],
   "source": [
    "shape_2 = xc.Shape2D([xc.LineSegment(s1=0, x1=0, s2=0.2, x2=1),\n",
    "                     xc.BezierSegment(s1=0.2, x1=1, s2=1+0.5*np.cos(3*np.pi/4), x2=0.5+0.5*np.sin(3*np.pi/4), cs1=0.5, cx1=2.5, cs2=1+0.5*np.cos(3*np.pi/4)-0.6, cx2=0.5+0.5*np.sin(3*np.pi/4)-0.6),\n",
    "                     xc.CircularSegment(R=0.5, s=1, x=0.5, t1=-np.pi/2, t2=3*np.pi/4),\n",
    "                     xc.LineSegment(s1=1, x1=0, s2=0, x2=0),\n",
    "                     xc.HalfOpenLineSegment(s=2, x=1, t=np.pi/4),\n",
    "                     xc.LineSegment(s1=2, x1=1, s2=3, x2=0),\n",
    "                     xc.HalfOpenLineSegment(s=3, x=0, t=np.pi/4)])\n",
    "check_drift(shape_2, xlim=(-0.5, 4), ylim=(-0.5,2), plot_object=True)"
   ]
  },
  {
   "cell_type": "code",
   "execution_count": null,
   "metadata": {},
   "outputs": [],
   "source": [
    "# seg = xc.CircularSegment(R=1, s=0., x=0., t1=0,        t2=np.pi/2)\n",
    "# seg = xc.CircularSegment(R=1, s=0., x=0., t1=-np.pi/2, t2=np.pi/2)\n",
    "# seg = xc.CircularSegment(R=1, s=0., x=0., t1=np.pi/2,  t2=-np.pi/2)\n",
    "# seg = xc.CircularSegment(R=1, s=0., x=0., t1=0,        t2=3*np.pi/2)\n",
    "# seg = xc.CircularSegment(R=1, s=0., x=0., t1=0,        t2=2*np.pi)\n",
    "# seg = xc.CircularSegment(R=1, s=0., x=0., t1=0,        t2=-np.pi/2)\n",
    "# seg = xc.CircularSegment(R=1, s=0., x=0., t1=-np.pi/2, t2=0)\n",
    "seg = xc.CircularSegment(R=1, s=0., x=0., t1=3*np.pi/2,t2=0)\n",
    "\n",
    "check_drift(xc.Shape2D([seg]), plot_object=True, xlim=(-1.5, 1.5), ylim=(-1.5, 1.5))"
   ]
  },
  {
   "cell_type": "code",
   "execution_count": null,
   "metadata": {},
   "outputs": [],
   "source": [
    "shape_3 = xc.Shape2DV([xc.LineSegment(s1=0, x1=0, s2=0.2, x2=1),\n",
    "                      xc.BezierSegment(s1=0.2, x1=1, s2=1+0.5*np.cos(3*np.pi/4), x2=0.5+0.5*np.sin(3*np.pi/4), cs1=0.5, cx1=2.5, cs2=1+0.5*np.cos(3*np.pi/4)-0.6, cx2=0.5+0.5*np.sin(3*np.pi/4)-0.6),\n",
    "                      xc.CircularSegment(R=0.5, s=1, x=0.5, t1=-np.pi/2, t2=3*np.pi/4),\n",
    "                      xc.LineSegment(s1=1, x1=0, s2=0, x2=0),\n",
    "                      xc.HalfOpenLineSegment(s=2, x=1, t=np.pi/4),\n",
    "                      xc.LineSegment(s1=2, x1=1, s2=3, x2=0),\n",
    "                      xc.HalfOpenLineSegment(s=3, x=0, t=np.pi/4)],\n",
    "                    vlimit=[-0.1, 0.1])\n",
    "check_drift(shape_3, xlim=(-0.5, 4), ylim=(-0.5,2), plot_object=True)"
   ]
  }
 ],
 "metadata": {
  "kernelspec": {
   "display_name": "xsuite",
   "language": "python",
   "name": "python3"
  },
  "language_info": {
   "codemirror_mode": {
    "name": "ipython",
    "version": 3
   },
   "file_extension": ".py",
   "mimetype": "text/x-python",
   "name": "python",
   "nbconvert_exporter": "python",
   "pygments_lexer": "ipython3",
   "version": "3.10.16"
  }
 },
 "nbformat": 4,
 "nbformat_minor": 2
}
